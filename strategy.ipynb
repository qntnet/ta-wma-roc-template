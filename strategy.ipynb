{
 "cells": [
  {
   "cell_type": "markdown",
   "metadata": {},
   "source": [
    "# Technical Analysis Template: sRoC = WMA + RoC"
   ]
  },
  {
   "cell_type": "markdown",
   "metadata": {},
   "source": [
    "Follow the trend the using smooth Rate of Change. The smooth function is WMA."
   ]
  },
  {
   "cell_type": "code",
   "execution_count": null,
   "metadata": {},
   "outputs": [],
   "source": [
    "import qnt.data as qndata\n",
    "import qnt.stats as qnstats\n",
    "import qnt.xr_talib as qnxrtalib\n",
    "import qnt.graph as qngraph"
   ]
  },
  {
   "cell_type": "markdown",
   "metadata": {},
   "source": [
    "# Data"
   ]
  },
  {
   "cell_type": "code",
   "execution_count": null,
   "metadata": {
    "scrolled": true
   },
   "outputs": [],
   "source": [
    "data = qndata.load_data(min_date=\"2014-01-01\", forward_order=True, dims=(\"time\", \"field\", \"asset\"))"
   ]
  },
  {
   "cell_type": "markdown",
   "metadata": {},
   "source": [
    "# Calc output"
   ]
  },
  {
   "cell_type": "code",
   "execution_count": null,
   "metadata": {
    "scrolled": false
   },
   "outputs": [],
   "source": [
    "SROC_POSITIVE_TREND_LEVEL = 0.0125\n",
    "\n",
    "wma = qnxrtalib.WMA(data.sel(field='close'), 290)\n",
    "sroc = qnxrtalib.ROCP(wma, 35)\n",
    "\n",
    "is_liquid = data.sel(field=\"is_liquid\")\n",
    "weights = is_liquid.where(sroc > SROC_POSITIVE_TREND_LEVEL)\n",
    "\n",
    "weights = weights / weights.sum(\"asset\", skipna=True)\n",
    "output = weights.fillna(0.0)"
   ]
  },
  {
   "cell_type": "markdown",
   "metadata": {},
   "source": [
    "## Stats and plots"
   ]
  },
  {
   "cell_type": "code",
   "execution_count": null,
   "metadata": {},
   "outputs": [],
   "source": [
    "stat = qnstats.calc_stat(data, output)\n",
    "display(stat.to_pandas().tail())"
   ]
  },
  {
   "cell_type": "code",
   "execution_count": null,
   "metadata": {},
   "outputs": [],
   "source": [
    "qngraph.make_plot_filled(\n",
    "    stat.coords['time'].to_pandas(), \n",
    "    stat.loc[:, 'equity'].values,  \n",
    "    color=\"blue\", \n",
    "    name=\"PnL (Equity)\", \n",
    "    type=\"log\"\n",
    ")"
   ]
  },
  {
   "cell_type": "code",
   "execution_count": null,
   "metadata": {},
   "outputs": [],
   "source": [
    "qngraph.make_plot_filled(\n",
    "    stat.coords['time'].to_pandas(), \n",
    "    stat.loc[:, 'underwater'].values, \n",
    "    color=\"red\", \n",
    "    name=\"Underwater Chart\", \n",
    "    range_max=0\n",
    ")"
   ]
  },
  {
   "cell_type": "code",
   "execution_count": null,
   "metadata": {},
   "outputs": [],
   "source": [
    "SR_OFFSET = 252*3 + 290 + 35\n",
    "qngraph.make_plot_filled(\n",
    "    stat.coords['time'].to_pandas()[SR_OFFSET:], \n",
    "    stat.loc[:, 'sharpe_ratio'][SR_OFFSET:], \n",
    "    color=\"purple\", \n",
    "    name=\"Rolling SR\"\n",
    ")"
   ]
  },
  {
   "cell_type": "code",
   "execution_count": null,
   "metadata": {
    "scrolled": true
   },
   "outputs": [],
   "source": [
    "qngraph.make_plot_filled(\n",
    "    stat.coords['time'].to_pandas(), \n",
    "    stat.loc[:, 'bias'].values, \n",
    "    color=\"gray\", \n",
    "    name=\"Bias\"\n",
    ")"
   ]
  },
  {
   "cell_type": "markdown",
   "metadata": {},
   "source": [
    "# Save output"
   ]
  },
  {
   "cell_type": "code",
   "execution_count": null,
   "metadata": {},
   "outputs": [],
   "source": [
    "qndata.write_output(output)"
   ]
  }
 ],
 "metadata": {
  "kernelspec": {
   "display_name": "Python 3",
   "language": "python",
   "name": "python3"
  },
  "language_info": {
   "codemirror_mode": {
    "name": "ipython",
    "version": 3
   },
   "file_extension": ".py",
   "mimetype": "text/x-python",
   "name": "python",
   "nbconvert_exporter": "python",
   "pygments_lexer": "ipython3",
   "version": "3.7.3"
  }
 },
 "nbformat": 4,
 "nbformat_minor": 2
}
