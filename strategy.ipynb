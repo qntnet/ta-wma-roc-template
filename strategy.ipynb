{
 "cells": [
  {
   "cell_type": "markdown",
   "metadata": {},
   "source": [
    "# Technical Analysis Template: sRoC = WMA + RoC"
   ]
  },
  {
   "cell_type": "markdown",
   "metadata": {},
   "source": [
    "Follow the trend the using smooth Rate of Change. The smooth function is WMA."
   ]
  },
  {
   "cell_type": "code",
   "execution_count": null,
   "metadata": {},
   "outputs": [],
   "source": [
    "import qnt.data as qndata\n",
    "import qnt.stats as qnstats\n",
    "import qnt.xr_talib as qnxrtalib\n",
    "import qnt.graph as qngraph\n",
    "import qnt.forward_looking as qnfl"
   ]
  },
  {
   "cell_type": "markdown",
   "metadata": {},
   "source": [
    "# Data"
   ]
  },
  {
   "cell_type": "code",
   "execution_count": null,
   "metadata": {
    "scrolled": true
   },
   "outputs": [],
   "source": [
    "data = qndata.load_data(min_date=\"2014-01-01\", forward_order=True, dims=(\"time\", \"field\", \"asset\"))"
   ]
  },
  {
   "cell_type": "markdown",
   "metadata": {},
   "source": [
    "# Calc output"
   ]
  },
  {
   "cell_type": "code",
   "execution_count": null,
   "metadata": {
    "scrolled": false
   },
   "outputs": [],
   "source": [
    "SROC_POSITIVE_TREND_LEVEL = 0.0125\n",
    "\n",
    "wma = qnxrtalib.WMA(data.sel(field='close'), 290)\n",
    "sroc = qnxrtalib.ROCP(wma, 35)\n",
    "\n",
    "is_liquid = data.sel(field=\"is_liquid\")\n",
    "weights = is_liquid.where(sroc > SROC_POSITIVE_TREND_LEVEL)\n",
    "\n",
    "weights = weights / weights.sum(\"asset\", skipna=True)\n",
    "\n",
    "output = weights.fillna(0.0)"
   ]
  },
  {
   "cell_type": "markdown",
   "metadata": {},
   "source": [
    "## Stats and plots"
   ]
  },
  {
   "cell_type": "code",
   "execution_count": null,
   "metadata": {},
   "outputs": [],
   "source": [
    "stat = qnstats.calc_stat(data, output)\n",
    "display(stat.to_pandas().tail())"
   ]
  },
  {
   "cell_type": "markdown",
   "metadata": {},
   "source": [
    "# Improvement"
   ]
  },
  {
   "cell_type": "code",
   "execution_count": null,
   "metadata": {},
   "outputs": [],
   "source": [
    "stat_per_asset = qnstats.calc_stat(data, output, max_periods=40, per_asset = True)\n",
    "improved_output = output.where(\n",
    "    stat_per_asset.sel(field='sharpe_ratio').rolling(time=40).mean() > 1\n",
    ")\n",
    "stat = qnstats.calc_stat(data, improved_output, max_periods=252 * 3)\n",
    "stat.to_pandas().tail()"
   ]
  },
  {
   "cell_type": "markdown",
   "metadata": {},
   "source": [
    "# Checks"
   ]
  },
  {
   "cell_type": "code",
   "execution_count": null,
   "metadata": {},
   "outputs": [],
   "source": [
    "# Use the function from 'qnfl' ensures that no forward-looking\n",
    "# is taking place. \n",
    "def strategy():\n",
    "    \"\"\"\n",
    "    it is the same strtegy, but implemented with xarray\n",
    "    Entire code of strategy calculation is collected here.\n",
    "    \"\"\"\n",
    "    data = qndata.load_data(min_date=\"2014-01-01\", forward_order=True, dims=(\"time\", \"field\", \"asset\"))\n",
    "\n",
    "    SROC_POSITIVE_TREND_LEVEL = 0.0125\n",
    "\n",
    "    wma = qnxrtalib.WMA(data.sel(field='close'), 290)\n",
    "    sroc = qnxrtalib.ROCP(wma, 35)\n",
    "\n",
    "    is_liquid = data.sel(field=\"is_liquid\")\n",
    "    weights = is_liquid.where(sroc > SROC_POSITIVE_TREND_LEVEL)\n",
    "\n",
    "    weights = weights / weights.sum(\"asset\", skipna=True)\n",
    "\n",
    "    output = weights.fillna(0.0)\n",
    "    \n",
    "    stat_per_asset = qnstats.calc_stat(data, output, max_periods=40, per_asset = True)\n",
    "    improved_output = output.where(\n",
    "        stat_per_asset.sel(field='sharpe_ratio').rolling(time=40).mean() > 1\n",
    "    )\n",
    "    \n",
    "    return improved_output\n",
    "\n",
    "# This function runs strategy twice on the different periods: \n",
    "# the entire data and data the with a cropped last half year.\n",
    "# After that this function compares outputs. \n",
    "# Overlapped outputs must be same.\n",
    "output_final = qnfl.load_data_calc_output_and_check_forward_looking(strategy)"
   ]
  },
  {
   "cell_type": "code",
   "execution_count": null,
   "metadata": {},
   "outputs": [],
   "source": [
    "# correlation check\n",
    "# your strategy should not correlate with other strategies before submission\n",
    "qnstats.print_correlation(output_final, data)"
   ]
  },
  {
   "cell_type": "markdown",
   "metadata": {},
   "source": [
    "# Save output"
   ]
  },
  {
   "cell_type": "code",
   "execution_count": null,
   "metadata": {},
   "outputs": [],
   "source": [
    "qndata.write_output(output)"
   ]
  }
 ],
 "metadata": {
  "kernelspec": {
   "display_name": "Python 3",
   "language": "python",
   "name": "python3"
  },
  "language_info": {
   "codemirror_mode": {
    "name": "ipython",
    "version": 3
   },
   "file_extension": ".py",
   "mimetype": "text/x-python",
   "name": "python",
   "nbconvert_exporter": "python",
   "pygments_lexer": "ipython3",
   "version": "3.7.3"
  }
 },
 "nbformat": 4,
 "nbformat_minor": 2
}
